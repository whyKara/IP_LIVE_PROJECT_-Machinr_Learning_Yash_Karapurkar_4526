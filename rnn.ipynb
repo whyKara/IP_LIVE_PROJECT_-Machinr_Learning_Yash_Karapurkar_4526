{
 "cells": [
  {
   "cell_type": "code",
   "execution_count": 1,
   "source": [
    "import pandas as pd\n",
    "import numpy as np\n",
    "import matplotlib.pylab as plt\n"
   ],
   "outputs": [],
   "metadata": {}
  },
  {
   "cell_type": "code",
   "execution_count": 2,
   "source": [
    "df = pd.read_csv('rnn_data.csv', index_col=0, parse_dates=True)\n",
    "df.head()"
   ],
   "outputs": [
    {
     "output_type": "execute_result",
     "data": {
      "text/html": [
       "<div>\n",
       "<style scoped>\n",
       "    .dataframe tbody tr th:only-of-type {\n",
       "        vertical-align: middle;\n",
       "    }\n",
       "\n",
       "    .dataframe tbody tr th {\n",
       "        vertical-align: top;\n",
       "    }\n",
       "\n",
       "    .dataframe thead th {\n",
       "        text-align: right;\n",
       "    }\n",
       "</style>\n",
       "<table border=\"1\" class=\"dataframe\">\n",
       "  <thead>\n",
       "    <tr style=\"text-align: right;\">\n",
       "      <th></th>\n",
       "      <th>Count</th>\n",
       "    </tr>\n",
       "    <tr>\n",
       "      <th>Date_Time</th>\n",
       "      <th></th>\n",
       "    </tr>\n",
       "  </thead>\n",
       "  <tbody>\n",
       "    <tr>\n",
       "      <th>2020-09-21 02:00:00</th>\n",
       "      <td>22</td>\n",
       "    </tr>\n",
       "    <tr>\n",
       "      <th>2020-09-21 04:00:00</th>\n",
       "      <td>3</td>\n",
       "    </tr>\n",
       "    <tr>\n",
       "      <th>2020-09-21 05:00:00</th>\n",
       "      <td>2</td>\n",
       "    </tr>\n",
       "    <tr>\n",
       "      <th>2020-09-21 06:00:00</th>\n",
       "      <td>3</td>\n",
       "    </tr>\n",
       "    <tr>\n",
       "      <th>2020-09-21 07:00:00</th>\n",
       "      <td>3</td>\n",
       "    </tr>\n",
       "  </tbody>\n",
       "</table>\n",
       "</div>"
      ],
      "text/plain": [
       "                     Count\n",
       "Date_Time                 \n",
       "2020-09-21 02:00:00     22\n",
       "2020-09-21 04:00:00      3\n",
       "2020-09-21 05:00:00      2\n",
       "2020-09-21 06:00:00      3\n",
       "2020-09-21 07:00:00      3"
      ]
     },
     "metadata": {},
     "execution_count": 2
    }
   ],
   "metadata": {}
  },
  {
   "cell_type": "code",
   "execution_count": 3,
   "source": [
    "df=df.resample('H').mean()"
   ],
   "outputs": [],
   "metadata": {}
  },
  {
   "cell_type": "code",
   "execution_count": 4,
   "source": [
    "df.fillna(method='ffill', inplace=True)\n",
    "df.head()"
   ],
   "outputs": [
    {
     "output_type": "execute_result",
     "data": {
      "text/html": [
       "<div>\n",
       "<style scoped>\n",
       "    .dataframe tbody tr th:only-of-type {\n",
       "        vertical-align: middle;\n",
       "    }\n",
       "\n",
       "    .dataframe tbody tr th {\n",
       "        vertical-align: top;\n",
       "    }\n",
       "\n",
       "    .dataframe thead th {\n",
       "        text-align: right;\n",
       "    }\n",
       "</style>\n",
       "<table border=\"1\" class=\"dataframe\">\n",
       "  <thead>\n",
       "    <tr style=\"text-align: right;\">\n",
       "      <th></th>\n",
       "      <th>Count</th>\n",
       "    </tr>\n",
       "    <tr>\n",
       "      <th>Date_Time</th>\n",
       "      <th></th>\n",
       "    </tr>\n",
       "  </thead>\n",
       "  <tbody>\n",
       "    <tr>\n",
       "      <th>2020-09-21 02:00:00</th>\n",
       "      <td>22.0</td>\n",
       "    </tr>\n",
       "    <tr>\n",
       "      <th>2020-09-21 03:00:00</th>\n",
       "      <td>22.0</td>\n",
       "    </tr>\n",
       "    <tr>\n",
       "      <th>2020-09-21 04:00:00</th>\n",
       "      <td>3.0</td>\n",
       "    </tr>\n",
       "    <tr>\n",
       "      <th>2020-09-21 05:00:00</th>\n",
       "      <td>2.0</td>\n",
       "    </tr>\n",
       "    <tr>\n",
       "      <th>2020-09-21 06:00:00</th>\n",
       "      <td>3.0</td>\n",
       "    </tr>\n",
       "  </tbody>\n",
       "</table>\n",
       "</div>"
      ],
      "text/plain": [
       "                     Count\n",
       "Date_Time                 \n",
       "2020-09-21 02:00:00   22.0\n",
       "2020-09-21 03:00:00   22.0\n",
       "2020-09-21 04:00:00    3.0\n",
       "2020-09-21 05:00:00    2.0\n",
       "2020-09-21 06:00:00    3.0"
      ]
     },
     "metadata": {},
     "execution_count": 4
    }
   ],
   "metadata": {}
  },
  {
   "cell_type": "code",
   "execution_count": 5,
   "source": [
    "from statsmodels.tsa.seasonal import seasonal_decompose"
   ],
   "outputs": [],
   "metadata": {}
  },
  {
   "cell_type": "code",
   "execution_count": 6,
   "source": [
    "results = seasonal_decompose(df['Count'])\n",
    "results.plot();"
   ],
   "outputs": [
    {
     "output_type": "display_data",
     "data": {
      "image/png": "[encoded data removed]",
      "text/plain": [
       "<Figure size 432x288 with 4 Axes>"
      ]
     },
     "metadata": {
      "needs_background": "light"
     }
    }
   ],
   "metadata": {}
  },
  {
   "cell_type": "code",
   "execution_count": 7,
   "source": [
    "len(df)"
   ],
   "outputs": [
    {
     "output_type": "execute_result",
     "data": {
      "text/plain": [
       "4391"
      ]
     },
     "metadata": {},
     "execution_count": 7
    }
   ],
   "metadata": {}
  },
  {
   "cell_type": "code",
   "execution_count": 13,
   "source": [
    "train = df.iloc[:-60]\n",
    "test = df.iloc[-60:]\n"
   ],
   "outputs": [],
   "metadata": {}
  },
  {
   "cell_type": "code",
   "execution_count": 14,
   "source": [
    "from sklearn.preprocessing import MinMaxScaler\n",
    "scaler = MinMaxScaler()"
   ],
   "outputs": [],
   "metadata": {}
  },
  {
   "cell_type": "code",
   "execution_count": 15,
   "source": [
    "df.head(),df.tail()"
   ],
   "outputs": [
    {
     "output_type": "execute_result",
     "data": {
      "text/plain": [
       "(                     Count\n",
       " Date_Time                 \n",
       " 2020-09-21 02:00:00   22.0\n",
       " 2020-09-21 03:00:00   22.0\n",
       " 2020-09-21 04:00:00    3.0\n",
       " 2020-09-21 05:00:00    2.0\n",
       " 2020-09-21 06:00:00    3.0,\n",
       "                      Count\n",
       " Date_Time                 \n",
       " 2021-03-22 20:00:00   18.0\n",
       " 2021-03-22 21:00:00    7.0\n",
       " 2021-03-22 22:00:00   24.0\n",
       " 2021-03-22 23:00:00   17.0\n",
       " 2021-03-23 00:00:00    7.0)"
      ]
     },
     "metadata": {},
     "execution_count": 15
    }
   ],
   "metadata": {}
  },
  {
   "cell_type": "code",
   "execution_count": 16,
   "source": [
    "scaler.fit(train)\n",
    "scaled_train = scaler.transform(train)\n",
    "scaled_test = scaler.transform(test)"
   ],
   "outputs": [],
   "metadata": {}
  },
  {
   "cell_type": "code",
   "execution_count": 17,
   "source": [
    "scaled_train[:10]"
   ],
   "outputs": [
    {
     "output_type": "execute_result",
     "data": {
      "text/plain": [
       "array([[0.19090909],\n",
       "       [0.19090909],\n",
       "       [0.01818182],\n",
       "       [0.00909091],\n",
       "       [0.01818182],\n",
       "       [0.01818182],\n",
       "       [0.05454545],\n",
       "       [0.04545455],\n",
       "       [0.20909091],\n",
       "       [0.36363636]])"
      ]
     },
     "metadata": {},
     "execution_count": 17
    }
   ],
   "metadata": {}
  },
  {
   "cell_type": "code",
   "execution_count": 18,
   "source": [
    "from keras.preprocessing.sequence import TimeseriesGenerator"
   ],
   "outputs": [],
   "metadata": {}
  },
  {
   "cell_type": "code",
   "execution_count": 19,
   "source": [
    "# define generator\n",
    "n_input = 48\n",
    "n_features = 1\n",
    "generator = TimeseriesGenerator(scaled_train, scaled_train, length=n_input, batch_size=1)"
   ],
   "outputs": [],
   "metadata": {}
  },
  {
   "cell_type": "code",
   "execution_count": 20,
   "source": [
    "X,y = generator[0]\n",
    "print(f'Given the Array: \\n{X.flatten()}')\n",
    "print(f'Predict this y: \\n {y}')"
   ],
   "outputs": [
    {
     "output_type": "stream",
     "name": "stdout",
     "text": [
      "Given the Array: \n",
      "[0.19090909 0.19090909 0.01818182 0.00909091 0.01818182 0.01818182\n",
      " 0.05454545 0.04545455 0.20909091 0.36363636 0.24545455 0.13636364\n",
      " 0.10909091 0.27272727 0.1        0.26363636 0.21818182 0.24545455\n",
      " 0.18181818 0.21818182 0.16363636 0.17272727 0.09090909 0.07272727\n",
      " 0.07272727 0.         0.         0.         0.01818182 0.05454545\n",
      " 0.03636364 0.1        0.17272727 0.25454545 0.13636364 0.28181818\n",
      " 0.22727273 0.14545455 0.02727273 0.21818182 0.10909091 0.11818182\n",
      " 0.16363636 0.2        0.14545455 0.1        0.09090909 0.10909091]\n",
      "Predict this y: \n",
      " [[0.01818182]]\n"
     ]
    }
   ],
   "metadata": {}
  },
  {
   "cell_type": "code",
   "execution_count": 21,
   "source": [
    "X.shape"
   ],
   "outputs": [
    {
     "output_type": "execute_result",
     "data": {
      "text/plain": [
       "(1, 48, 1)"
      ]
     },
     "metadata": {},
     "execution_count": 21
    }
   ],
   "metadata": {}
  },
  {
   "cell_type": "code",
   "execution_count": 22,
   "source": [
    "from keras.models import Sequential\n",
    "from keras.layers import Dense\n",
    "from keras.layers import LSTM"
   ],
   "outputs": [],
   "metadata": {}
  },
  {
   "cell_type": "code",
   "execution_count": 23,
   "source": [
    "# define model\n",
    "model = Sequential()\n",
    "model.add(LSTM(100, activation='relu', input_shape=(n_input, n_features)))\n",
    "model.add(Dense(1))\n",
    "model.compile(optimizer='adam', loss='mse')"
   ],
   "outputs": [
    {
     "output_type": "stream",
     "name": "stderr",
     "text": [
      "2021-09-05 16:02:24.022116: I tensorflow/stream_executor/cuda/cuda_gpu_executor.cc:923] could not open file to read NUMA node: /sys/bus/pci/devices/0000:09:00.0/numa_node\n",
      "Your kernel may have been built without NUMA support.\n",
      "2021-09-05 16:02:24.144842: W tensorflow/stream_executor/platform/default/dso_loader.cc:64] Could not load dynamic library 'libcudnn.so.8'; dlerror: libcudnn.so.8: cannot open shared object file: No such file or directory\n",
      "2021-09-05 16:02:24.144876: W tensorflow/core/common_runtime/gpu/gpu_device.cc:1835] Cannot dlopen some GPU libraries. Please make sure the missing libraries mentioned above are installed properly if you would like to use GPU. Follow the guide at https://www.tensorflow.org/install/gpu for how to download and setup the required libraries for your platform.\n",
      "Skipping registering GPU devices...\n",
      "2021-09-05 16:02:24.146191: I tensorflow/core/platform/cpu_feature_guard.cc:142] This TensorFlow binary is optimized with oneAPI Deep Neural Network Library (oneDNN) to use the following CPU instructions in performance-critical operations:  AVX2 FMA\n",
      "To enable them in other operations, rebuild TensorFlow with the appropriate compiler flags.\n"
     ]
    }
   ],
   "metadata": {}
  },
  {
   "cell_type": "code",
   "execution_count": 24,
   "source": [
    "model.summary()\n"
   ],
   "outputs": [
    {
     "output_type": "stream",
     "name": "stdout",
     "text": [
      "Model: \"sequential\"\n",
      "_________________________________________________________________\n",
      "Layer (type)                 Output Shape              Param #   \n",
      "=================================================================\n",
      "lstm (LSTM)                  (None, 100)               40800     \n",
      "_________________________________________________________________\n",
      "dense (Dense)                (None, 1)                 101       \n",
      "=================================================================\n",
      "Total params: 40,901\n",
      "Trainable params: 40,901\n",
      "Non-trainable params: 0\n",
      "_________________________________________________________________\n"
     ]
    }
   ],
   "metadata": {}
  },
  {
   "cell_type": "code",
   "execution_count": 25,
   "source": [
    "model.fit(generator,epochs=10)"
   ],
   "outputs": [
    {
     "output_type": "stream",
     "name": "stderr",
     "text": [
      "2021-09-05 16:02:44.366146: I tensorflow/compiler/mlir/mlir_graph_optimization_pass.cc:185] None of the MLIR Optimization Passes are enabled (registered 2)\n"
     ]
    },
    {
     "output_type": "stream",
     "name": "stdout",
     "text": [
      "Epoch 1/10\n",
      "4283/4283 [==============================] - 168s 39ms/step - loss: 0.0052\n",
      "Epoch 2/10\n",
      "4283/4283 [==============================] - 155s 36ms/step - loss: 0.0043\n",
      "Epoch 3/10\n",
      "4283/4283 [==============================] - 158s 37ms/step - loss: 0.0042\n",
      "Epoch 4/10\n",
      "4283/4283 [==============================] - 149s 35ms/step - loss: 0.0041\n",
      "Epoch 5/10\n",
      "4283/4283 [==============================] - 159s 37ms/step - loss: 0.0040\n",
      "Epoch 6/10\n",
      "4283/4283 [==============================] - 153s 36ms/step - loss: 0.0040\n",
      "Epoch 7/10\n",
      "4283/4283 [==============================] - 143s 33ms/step - loss: 0.0039\n",
      "Epoch 8/10\n",
      "4283/4283 [==============================] - 150s 35ms/step - loss: 0.0039\n",
      "Epoch 9/10\n",
      "4283/4283 [==============================] - 150s 35ms/step - loss: 0.0039\n",
      "Epoch 10/10\n",
      "4283/4283 [==============================] - 153s 36ms/step - loss: 0.0039\n"
     ]
    },
    {
     "output_type": "execute_result",
     "data": {
      "text/plain": [
       "<keras.callbacks.History at 0x7ff74f6bba90>"
      ]
     },
     "metadata": {},
     "execution_count": 25
    }
   ],
   "metadata": {}
  },
  {
   "cell_type": "code",
   "execution_count": 26,
   "source": [
    "loss_per_epoch = model.history.history['loss']\n",
    "plt.plot(range(len(loss_per_epoch)),loss_per_epoch)"
   ],
   "outputs": [
    {
     "output_type": "execute_result",
     "data": {
      "text/plain": [
       "[<matplotlib.lines.Line2D at 0x7ff700572c40>]"
      ]
     },
     "metadata": {},
     "execution_count": 26
    },
    {
     "output_type": "display_data",
     "data": {
      "image/png": "[encoded data removed]",
      "text/plain": [
       "<Figure size 432x288 with 1 Axes>"
      ]
     },
     "metadata": {
      "needs_background": "light"
     }
    }
   ],
   "metadata": {}
  },
  {
   "cell_type": "code",
   "execution_count": 27,
   "source": [
    "last_train_batch = scaled_train[-48:]"
   ],
   "outputs": [],
   "metadata": {}
  },
  {
   "cell_type": "code",
   "execution_count": 28,
   "source": [
    "last_train_batch = last_train_batch.reshape((1, n_input, n_features))\n"
   ],
   "outputs": [],
   "metadata": {}
  },
  {
   "cell_type": "code",
   "execution_count": 31,
   "source": [
    "test_predictions = []\n",
    "\n",
    "first_eval_batch = scaled_train[-n_input:]\n",
    "current_batch = first_eval_batch.reshape((1, n_input, n_features))\n",
    "\n",
    "for i in range(len(test)):\n",
    "    \n",
    "    # get the prediction value for the first batch\n",
    "    current_pred = model.predict(current_batch)[0]\n",
    "    \n",
    "    # append the prediction into the array\n",
    "    test_predictions.append(current_pred) \n",
    "    \n",
    "    # use the prediction to update the batch and remove the first value\n",
    "    current_batch = np.append(current_batch[:,1:,:],[[current_pred]],axis=1)"
   ],
   "outputs": [],
   "metadata": {}
  },
  {
   "cell_type": "code",
   "execution_count": 32,
   "source": [
    "test_predictions"
   ],
   "outputs": [
    {
     "output_type": "execute_result",
     "data": {
      "text/plain": [
       "[array([0.16797024], dtype=float32),\n",
       " array([0.16182837], dtype=float32),\n",
       " array([0.15734887], dtype=float32),\n",
       " array([0.15124881], dtype=float32),\n",
       " array([0.14458784], dtype=float32),\n",
       " array([0.13795494], dtype=float32),\n",
       " array([0.12948868], dtype=float32),\n",
       " array([0.11734883], dtype=float32),\n",
       " array([0.10204269], dtype=float32),\n",
       " array([0.08389395], dtype=float32),\n",
       " array([0.06317794], dtype=float32),\n",
       " array([0.04180825], dtype=float32),\n",
       " array([0.0263567], dtype=float32),\n",
       " array([0.01638994], dtype=float32),\n",
       " array([0.01299077], dtype=float32),\n",
       " array([0.01694018], dtype=float32),\n",
       " array([0.02765273], dtype=float32),\n",
       " array([0.0440205], dtype=float32),\n",
       " array([0.06774894], dtype=float32),\n",
       " array([0.09603943], dtype=float32),\n",
       " array([0.11803646], dtype=float32),\n",
       " array([0.13289674], dtype=float32),\n",
       " array([0.13991204], dtype=float32),\n",
       " array([0.13765082], dtype=float32),\n",
       " array([0.1314984], dtype=float32),\n",
       " array([0.12541114], dtype=float32),\n",
       " array([0.12009896], dtype=float32),\n",
       " array([0.11403757], dtype=float32),\n",
       " array([0.10666324], dtype=float32),\n",
       " array([0.09819065], dtype=float32),\n",
       " array([0.08730931], dtype=float32),\n",
       " array([0.07450099], dtype=float32),\n",
       " array([0.05986914], dtype=float32),\n",
       " array([0.04401673], dtype=float32),\n",
       " array([0.03071334], dtype=float32),\n",
       " array([0.02129599], dtype=float32),\n",
       " array([0.01678281], dtype=float32),\n",
       " array([0.01915643], dtype=float32),\n",
       " array([0.0272377], dtype=float32),\n",
       " array([0.0413364], dtype=float32),\n",
       " array([0.06044561], dtype=float32),\n",
       " array([0.0812161], dtype=float32),\n",
       " array([0.10262188], dtype=float32),\n",
       " array([0.11904387], dtype=float32),\n",
       " array([0.12657389], dtype=float32),\n",
       " array([0.12129325], dtype=float32),\n",
       " array([0.11631548], dtype=float32),\n",
       " array([0.11221071], dtype=float32),\n",
       " array([0.10716923], dtype=float32),\n",
       " array([0.10129887], dtype=float32),\n",
       " array([0.0944451], dtype=float32),\n",
       " array([0.08612189], dtype=float32),\n",
       " array([0.07569954], dtype=float32),\n",
       " array([0.0639682], dtype=float32),\n",
       " array([0.05102825], dtype=float32),\n",
       " array([0.03866911], dtype=float32),\n",
       " array([0.02810238], dtype=float32),\n",
       " array([0.0211181], dtype=float32),\n",
       " array([0.0189659], dtype=float32),\n",
       " array([0.02285318], dtype=float32)]"
      ]
     },
     "metadata": {},
     "execution_count": 32
    }
   ],
   "metadata": {}
  },
  {
   "cell_type": "code",
   "execution_count": 33,
   "source": [
    "test.head()"
   ],
   "outputs": [
    {
     "output_type": "execute_result",
     "data": {
      "text/html": [
       "<div>\n",
       "<style scoped>\n",
       "    .dataframe tbody tr th:only-of-type {\n",
       "        vertical-align: middle;\n",
       "    }\n",
       "\n",
       "    .dataframe tbody tr th {\n",
       "        vertical-align: top;\n",
       "    }\n",
       "\n",
       "    .dataframe thead th {\n",
       "        text-align: right;\n",
       "    }\n",
       "</style>\n",
       "<table border=\"1\" class=\"dataframe\">\n",
       "  <thead>\n",
       "    <tr style=\"text-align: right;\">\n",
       "      <th></th>\n",
       "      <th>Count</th>\n",
       "    </tr>\n",
       "    <tr>\n",
       "      <th>Date_Time</th>\n",
       "      <th></th>\n",
       "    </tr>\n",
       "  </thead>\n",
       "  <tbody>\n",
       "    <tr>\n",
       "      <th>2021-03-20 13:00:00</th>\n",
       "      <td>38.0</td>\n",
       "    </tr>\n",
       "    <tr>\n",
       "      <th>2021-03-20 14:00:00</th>\n",
       "      <td>30.0</td>\n",
       "    </tr>\n",
       "    <tr>\n",
       "      <th>2021-03-20 15:00:00</th>\n",
       "      <td>32.0</td>\n",
       "    </tr>\n",
       "    <tr>\n",
       "      <th>2021-03-20 16:00:00</th>\n",
       "      <td>42.0</td>\n",
       "    </tr>\n",
       "    <tr>\n",
       "      <th>2021-03-20 17:00:00</th>\n",
       "      <td>21.0</td>\n",
       "    </tr>\n",
       "  </tbody>\n",
       "</table>\n",
       "</div>"
      ],
      "text/plain": [
       "                     Count\n",
       "Date_Time                 \n",
       "2021-03-20 13:00:00   38.0\n",
       "2021-03-20 14:00:00   30.0\n",
       "2021-03-20 15:00:00   32.0\n",
       "2021-03-20 16:00:00   42.0\n",
       "2021-03-20 17:00:00   21.0"
      ]
     },
     "metadata": {},
     "execution_count": 33
    }
   ],
   "metadata": {}
  },
  {
   "cell_type": "code",
   "execution_count": 34,
   "source": [
    "true_predictions = scaler.inverse_transform(test_predictions)"
   ],
   "outputs": [],
   "metadata": {}
  },
  {
   "cell_type": "code",
   "execution_count": 35,
   "source": [
    "test['Predictions'] = true_predictions"
   ],
   "outputs": [
    {
     "output_type": "stream",
     "name": "stderr",
     "text": [
      "/home/kara/.local/lib/python3.8/site-packages/pandas/core/frame.py:3607: SettingWithCopyWarning: \n",
      "A value is trying to be set on a copy of a slice from a DataFrame.\n",
      "Try using .loc[row_indexer,col_indexer] = value instead\n",
      "\n",
      "See the caveats in the documentation: https://pandas.pydata.org/pandas-docs/stable/user_guide/indexing.html#returning-a-view-versus-a-copy\n",
      "  self._set_item(key, value)\n"
     ]
    }
   ],
   "metadata": {}
  },
  {
   "cell_type": "code",
   "execution_count": 36,
   "source": [
    "test.plot(figsize=(14,5))"
   ],
   "outputs": [
    {
     "output_type": "execute_result",
     "data": {
      "text/plain": [
       "<AxesSubplot:xlabel='Date_Time'>"
      ]
     },
     "metadata": {},
     "execution_count": 36
    },
    {
     "output_type": "display_data",
     "data": {
      "image/png": "[encoded data removed]",
      "text/plain": [
       "<Figure size 1008x360 with 1 Axes>"
      ]
     },
     "metadata": {
      "needs_background": "light"
     }
    }
   ],
   "metadata": {}
  },
  {
   "cell_type": "code",
   "execution_count": 37,
   "source": [
    "from sklearn.metrics import mean_squared_error\n",
    "from math import sqrt\n",
    "rmse=sqrt(mean_squared_error(test['Count'],test['Predictions']))\n",
    "print(rmse)"
   ],
   "outputs": [
    {
     "output_type": "stream",
     "name": "stdout",
     "text": [
      "11.608522981644807\n"
     ]
    }
   ],
   "metadata": {}
  },
  {
   "cell_type": "code",
   "execution_count": null,
   "source": [],
   "outputs": [],
   "metadata": {}
  },
  {
   "cell_type": "markdown",
   "source": [],
   "metadata": {}
  },
  {
   "cell_type": "code",
   "execution_count": null,
   "source": [],
   "outputs": [],
   "metadata": {}
  }
 ],
 "metadata": {
  "orig_nbformat": 4,
  "language_info": {
   "name": "python",
   "version": "3.8.10",
   "mimetype": "text/x-python",
   "codemirror_mode": {
    "name": "ipython",
    "version": 3
   },
   "pygments_lexer": "ipython3",
   "nbconvert_exporter": "python",
   "file_extension": ".py"
  },
  "kernelspec": {
   "name": "python3",
   "display_name": "Python 3.8.10 64-bit"
  },
  "interpreter": {
   "hash": "31f2aee4e71d21fbe5cf8b01ff0e069b9275f58929596ceb00d14d90e3e16cd6"
  }
 },
 "nbformat": 4,
 "nbformat_minor": 2
}